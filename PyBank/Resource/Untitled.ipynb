{
 "cells": [
  {
   "cell_type": "code",
   "execution_count": null,
   "id": "ba5fa162",
   "metadata": {},
   "outputs": [],
   "source": [
    "/Users/eddie/Desktop/Class_3_Activities (2)/01-Ins_Merging/Unsolved/merging.ipynb"
   ]
  }
 ],
 "metadata": {
  "kernelspec": {
   "display_name": "Python 3 (ipykernel)",
   "language": "python",
   "name": "python3"
  },
  "language_info": {
   "codemirror_mode": {
    "name": "ipython",
    "version": 3
   },
   "file_extension": ".py",
   "mimetype": "text/x-python",
   "name": "python",
   "nbconvert_exporter": "python",
   "pygments_lexer": "ipython3",
   "version": "3.10.13"
  }
 },
 "nbformat": 4,
 "nbformat_minor": 5
}
